{
  "nbformat": 4,
  "nbformat_minor": 0,
  "metadata": {
    "colab": {
      "provenance": [],
      "authorship_tag": "ABX9TyNrM3N91qp3UYRHCOIWHzRQ",
      "include_colab_link": true
    },
    "kernelspec": {
      "name": "python3",
      "display_name": "Python 3"
    },
    "language_info": {
      "name": "python"
    }
  },
  "cells": [
    {
      "cell_type": "markdown",
      "metadata": {
        "id": "view-in-github",
        "colab_type": "text"
      },
      "source": [
        "<a href=\"https://colab.research.google.com/github/Arsha070302/Arsha070302/blob/main/ailab.ipynb\" target=\"_parent\"><img src=\"https://colab.research.google.com/assets/colab-badge.svg\" alt=\"Open In Colab\"/></a>"
      ]
    },
    {
      "cell_type": "code",
      "execution_count": 1,
      "metadata": {
        "colab": {
          "base_uri": "https://localhost:8080/"
        },
        "id": "4HY8VB4A9kD7",
        "outputId": "5267500a-6af4-4305-f729-7119b1ac66c1"
      },
      "outputs": [
        {
          "output_type": "stream",
          "name": "stdout",
          "text": [
            "tf.Tensor(10, shape=(), dtype=int32)\n"
          ]
        }
      ],
      "source": [
        "import tensorflow as tf\n",
        "x=tf.constant(10)\n",
        "print(x)"
      ]
    },
    {
      "cell_type": "code",
      "source": [
        "x=tf.constant([1,2,3])\n",
        "print(x)"
      ],
      "metadata": {
        "colab": {
          "base_uri": "https://localhost:8080/"
        },
        "id": "vqVZ8sww9qPI",
        "outputId": "4417dea4-e94e-4ece-d407-c349765ea3b1"
      },
      "execution_count": 2,
      "outputs": [
        {
          "output_type": "stream",
          "name": "stdout",
          "text": [
            "tf.Tensor([1 2 3], shape=(3,), dtype=int32)\n"
          ]
        }
      ]
    },
    {
      "cell_type": "code",
      "source": [
        "x=tf.constant([(1,2),(3,4),(5,6)])\n",
        "print(x)"
      ],
      "metadata": {
        "colab": {
          "base_uri": "https://localhost:8080/"
        },
        "id": "Ctn-G8tw9u2P",
        "outputId": "176ccab5-e5be-4738-96a2-362a30552414"
      },
      "execution_count": 3,
      "outputs": [
        {
          "output_type": "stream",
          "name": "stdout",
          "text": [
            "tf.Tensor(\n",
            "[[1 2]\n",
            " [3 4]\n",
            " [5 6]], shape=(3, 2), dtype=int32)\n"
          ]
        }
      ]
    },
    {
      "cell_type": "code",
      "source": [
        "x=tf.ones(3,3)\n",
        "print(x)\n",
        "\n",
        "y=tf.zeros(3,3)\n",
        "print(y)\n",
        "\n",
        "# identity metrix\n",
        "z=tf.eye(3,3)\n",
        "print(z)\n",
        "\n",
        "a=tf.eye(3)\n",
        "print(a)"
      ],
      "metadata": {
        "colab": {
          "base_uri": "https://localhost:8080/"
        },
        "id": "stESnStF9yFX",
        "outputId": "3f5dc613-c0c1-446c-b45f-20548f571152"
      },
      "execution_count": 4,
      "outputs": [
        {
          "output_type": "stream",
          "name": "stdout",
          "text": [
            "tf.Tensor([1 1 1], shape=(3,), dtype=int32)\n",
            "tf.Tensor([0 0 0], shape=(3,), dtype=int32)\n",
            "tf.Tensor(\n",
            "[[1. 0. 0.]\n",
            " [0. 1. 0.]\n",
            " [0. 0. 1.]], shape=(3, 3), dtype=float32)\n",
            "tf.Tensor(\n",
            "[[1. 0. 0.]\n",
            " [0. 1. 0.]\n",
            " [0. 0. 1.]], shape=(3, 3), dtype=float32)\n"
          ]
        }
      ]
    },
    {
      "cell_type": "code",
      "source": [
        "x=tf.range(10)\n",
        "print(x)"
      ],
      "metadata": {
        "colab": {
          "base_uri": "https://localhost:8080/"
        },
        "id": "k1LqUMcc92q4",
        "outputId": "c61d2551-7061-4d10-89ee-24ef4c9fc92a"
      },
      "execution_count": 5,
      "outputs": [
        {
          "output_type": "stream",
          "name": "stdout",
          "text": [
            "tf.Tensor([0 1 2 3 4 5 6 7 8 9], shape=(10,), dtype=int32)\n"
          ]
        }
      ]
    },
    {
      "cell_type": "code",
      "source": [
        "x=tf.cast(x,dtype=tf.float32)\n",
        "print(x)"
      ],
      "metadata": {
        "colab": {
          "base_uri": "https://localhost:8080/"
        },
        "id": "njXJwzz2957Z",
        "outputId": "fcb0ca0d-4752-4fc6-c1f4-b3c59f5cd74c"
      },
      "execution_count": 6,
      "outputs": [
        {
          "output_type": "stream",
          "name": "stdout",
          "text": [
            "tf.Tensor([0. 1. 2. 3. 4. 5. 6. 7. 8. 9.], shape=(10,), dtype=float32)\n"
          ]
        }
      ]
    },
    {
      "cell_type": "code",
      "source": [
        "x=tf.constant([1,2,3])\n",
        "y=tf.constant([4,5,6])\n",
        "z=x+y\n",
        "print(z)\n",
        "\n",
        "# or\n",
        "\n",
        "z=tf.add(x,y)\n",
        "print(z)"
      ],
      "metadata": {
        "colab": {
          "base_uri": "https://localhost:8080/"
        },
        "id": "BmnOVIs798qZ",
        "outputId": "f8879985-1f77-4927-ca78-e612de94f1e8"
      },
      "execution_count": 7,
      "outputs": [
        {
          "output_type": "stream",
          "name": "stdout",
          "text": [
            "tf.Tensor([5 7 9], shape=(3,), dtype=int32)\n",
            "tf.Tensor([5 7 9], shape=(3,), dtype=int32)\n"
          ]
        }
      ]
    },
    {
      "cell_type": "code",
      "source": [
        "x=tf.constant([1,2,3])\n",
        "y=tf.constant([4,5,6])\n",
        "z=x-y\n",
        "print(z)\n",
        "\n",
        "# or\n",
        "\n",
        "z=tf.subtract(x,y)\n",
        "print(z)"
      ],
      "metadata": {
        "colab": {
          "base_uri": "https://localhost:8080/"
        },
        "id": "oKBkoanA9-3x",
        "outputId": "dc6928b8-f9f1-40e7-e207-1c3fb5ea1395"
      },
      "execution_count": 8,
      "outputs": [
        {
          "output_type": "stream",
          "name": "stdout",
          "text": [
            "tf.Tensor([-3 -3 -3], shape=(3,), dtype=int32)\n",
            "tf.Tensor([-3 -3 -3], shape=(3,), dtype=int32)\n"
          ]
        }
      ]
    },
    {
      "cell_type": "code",
      "source": [
        "x=tf.constant([1,2,3])\n",
        "y=tf.constant([4,5,6])\n",
        "z=x*y\n",
        "print(z)\n",
        "\n",
        "# or\n",
        "\n",
        "z=tf.multiply(x,y)\n",
        "print(z)"
      ],
      "metadata": {
        "colab": {
          "base_uri": "https://localhost:8080/"
        },
        "id": "tAKEvBSQ-Efx",
        "outputId": "970c7d3d-a7d5-4170-a447-998609690895"
      },
      "execution_count": 9,
      "outputs": [
        {
          "output_type": "stream",
          "name": "stdout",
          "text": [
            "tf.Tensor([ 4 10 18], shape=(3,), dtype=int32)\n",
            "tf.Tensor([ 4 10 18], shape=(3,), dtype=int32)\n"
          ]
        }
      ]
    },
    {
      "cell_type": "code",
      "source": [
        "x=tf.constant([1,2,3])\n",
        "y=tf.constant([4,5,6])\n",
        "z=x/y\n",
        "print(z)\n",
        "\n",
        "# or\n",
        "\n",
        "z=tf.divide(x,y)\n",
        "print(z)"
      ],
      "metadata": {
        "colab": {
          "base_uri": "https://localhost:8080/"
        },
        "id": "hYr1bMwK-FpR",
        "outputId": "a4506a14-bc7d-4b72-c966-a71677779165"
      },
      "execution_count": 10,
      "outputs": [
        {
          "output_type": "stream",
          "name": "stdout",
          "text": [
            "tf.Tensor([0.25 0.4  0.5 ], shape=(3,), dtype=float64)\n",
            "tf.Tensor([0.25 0.4  0.5 ], shape=(3,), dtype=float64)\n"
          ]
        }
      ]
    },
    {
      "cell_type": "code",
      "source": [
        "x=tf.constant([1,2,3])\n",
        "y=tf.constant([4,5,6])\n",
        "z=tf.tensordot(x,y,axes=1)\n",
        "print(z)"
      ],
      "metadata": {
        "colab": {
          "base_uri": "https://localhost:8080/"
        },
        "id": "0sqe848N-H7Y",
        "outputId": "9dc30704-c13e-47bf-b697-5382436a44f5"
      },
      "execution_count": 11,
      "outputs": [
        {
          "output_type": "stream",
          "name": "stdout",
          "text": [
            "tf.Tensor(32, shape=(), dtype=int32)\n"
          ]
        }
      ]
    },
    {
      "cell_type": "code",
      "source": [
        "x=tf.constant([1,2,3])\n",
        "y=x**3\n",
        "print(y)"
      ],
      "metadata": {
        "colab": {
          "base_uri": "https://localhost:8080/"
        },
        "id": "wTrF-5Nz-KjS",
        "outputId": "1848e9e2-653c-40d9-b1b6-88358a041b9b"
      },
      "execution_count": 12,
      "outputs": [
        {
          "output_type": "stream",
          "name": "stdout",
          "text": [
            "tf.Tensor([ 1  8 27], shape=(3,), dtype=int32)\n"
          ]
        }
      ]
    },
    {
      "cell_type": "code",
      "source": [
        "x = tf.constant([[1,2,3]])\n",
        "y = tf.constant([[4,5,6], [7,8,9], [10,11,12]])\n",
        "z = tf.matmul(x, y)\n",
        "print(z)"
      ],
      "metadata": {
        "colab": {
          "base_uri": "https://localhost:8080/"
        },
        "id": "2_W_wt70-Mk-",
        "outputId": "8b6ae517-739f-4a6c-ba45-378c63434ee6"
      },
      "execution_count": 13,
      "outputs": [
        {
          "output_type": "stream",
          "name": "stdout",
          "text": [
            "tf.Tensor([[48 54 60]], shape=(1, 3), dtype=int32)\n"
          ]
        }
      ]
    },
    {
      "cell_type": "code",
      "source": [
        "newlist=[3,[5,4,0],\"hello\",[7,4,1]]\n",
        "print(newlist)\n",
        "print(\"First element of the new list is :\",newlist[0])\n",
        "print(\"Second element of the new list is :\",newlist[1])\n",
        "print(\"Third element of the new list  is :\",newlist[2])\n",
        "print(\"Fourth element of the new list is :\",newlist[3])"
      ],
      "metadata": {
        "colab": {
          "base_uri": "https://localhost:8080/"
        },
        "id": "AN81EeEf-Qzx",
        "outputId": "f9a5ac0d-9548-428f-aa59-7e243f1d4601"
      },
      "execution_count": 14,
      "outputs": [
        {
          "output_type": "stream",
          "name": "stdout",
          "text": [
            "[3, [5, 4, 0], 'hello', [7, 4, 1]]\n",
            "First element of the new list is : 3\n",
            "Second element of the new list is : [5, 4, 0]\n",
            "Third element of the new list  is : hello\n",
            "Fourth element of the new list is : [7, 4, 1]\n"
          ]
        }
      ]
    },
    {
      "cell_type": "code",
      "source": [
        "print(\"First three elements of newlist\",newlist[9:3])\n",
        "print(\"Last three elements of newlist\",newlist[0:4:2])"
      ],
      "metadata": {
        "colab": {
          "base_uri": "https://localhost:8080/"
        },
        "id": "UmrGCh8t-TNi",
        "outputId": "b3419abe-92d4-4ff8-a956-2c4320f14b40"
      },
      "execution_count": 15,
      "outputs": [
        {
          "output_type": "stream",
          "name": "stdout",
          "text": [
            "First three elements of newlist []\n",
            "Last three elements of newlist [3, 'hello']\n"
          ]
        }
      ]
    },
    {
      "cell_type": "code",
      "source": [
        "newlist.append(\"hai\")\n",
        "print(\"The appended new list is: \",newlist)\n",
        "\n",
        "newlist.remove(\"hai\")\n",
        "print(\"The removed new list is: \",newlist)"
      ],
      "metadata": {
        "colab": {
          "base_uri": "https://localhost:8080/"
        },
        "id": "LoCL3RNI-UQK",
        "outputId": "4159cf52-955f-4674-f64a-a8da0103c8f2"
      },
      "execution_count": 16,
      "outputs": [
        {
          "output_type": "stream",
          "name": "stdout",
          "text": [
            "The appended new list is:  [3, [5, 4, 0], 'hello', [7, 4, 1], 'hai']\n",
            "The removed new list is:  [3, [5, 4, 0], 'hello', [7, 4, 1]]\n"
          ]
        }
      ]
    },
    {
      "cell_type": "code",
      "source": [
        "import numpy as np\n",
        "\n",
        "a=np.array([1,2,3])\n",
        "print(\"The array is\",a,\"and the data type is\",type(a))"
      ],
      "metadata": {
        "colab": {
          "base_uri": "https://localhost:8080/"
        },
        "id": "Eku-1AiN-W76",
        "outputId": "ffa22958-f341-4154-db2b-21614420d2a4"
      },
      "execution_count": 17,
      "outputs": [
        {
          "output_type": "stream",
          "name": "stdout",
          "text": [
            "The array is [1 2 3] and the data type is <class 'numpy.ndarray'>\n"
          ]
        }
      ]
    },
    {
      "cell_type": "code",
      "source": [
        "list1=[1,2,3]\n",
        "float_data=np.array(list1,dtype=float)\n",
        "print(\"float_data is\",float_data,\"and data type is \",type(float_data))"
      ],
      "metadata": {
        "colab": {
          "base_uri": "https://localhost:8080/"
        },
        "id": "PaR4LDzt-XA9",
        "outputId": "d96c76d3-05a6-4976-8070-a1c8fbfc014a"
      },
      "execution_count": 18,
      "outputs": [
        {
          "output_type": "stream",
          "name": "stdout",
          "text": [
            "float_data is [1. 2. 3.] and data type is  <class 'numpy.ndarray'>\n"
          ]
        }
      ]
    },
    {
      "cell_type": "code",
      "source": [
        "list2=[11,12,13]\n",
        "arr1=np.array(list1)\n",
        "arr2=np.array(list2)\n",
        "print(\"arr1 is\",arr1,\"and arr2 is\",arr2)\n",
        "sum=arr1+arr2\n",
        "print(\"The sum of arr1 and arr2 is\",sum)"
      ],
      "metadata": {
        "colab": {
          "base_uri": "https://localhost:8080/"
        },
        "id": "rV46uFrZ-XKi",
        "outputId": "f4800f31-6b25-4c64-dc91-925cecca32c8"
      },
      "execution_count": 19,
      "outputs": [
        {
          "output_type": "stream",
          "name": "stdout",
          "text": [
            "arr1 is [1 2 3] and arr2 is [11 12 13]\n",
            "The sum of arr1 and arr2 is [12 14 16]\n"
          ]
        }
      ]
    },
    {
      "cell_type": "code",
      "source": [
        "data=[[1,2,3,4],[5,6,7,8]]\n",
        "arr3=np.array(data)\n",
        "print(\"The array is\",arr3)\n",
        "print(\"The dimension of the array is\",arr3.ndim)\n",
        "print(\"The data type of the array is\",arr3.dtype)\n",
        "print(\"The shape of the array is\",arr3.shape)"
      ],
      "metadata": {
        "colab": {
          "base_uri": "https://localhost:8080/"
        },
        "id": "WSOgBW48-exQ",
        "outputId": "8b62e66d-16be-4061-cd17-4dfb69831d06"
      },
      "execution_count": 20,
      "outputs": [
        {
          "output_type": "stream",
          "name": "stdout",
          "text": [
            "The array is [[1 2 3 4]\n",
            " [5 6 7 8]]\n",
            "The dimension of the array is 2\n",
            "The data type of the array is int64\n",
            "The shape of the array is (2, 4)\n"
          ]
        }
      ]
    },
    {
      "cell_type": "code",
      "source": [
        "arr4=np.array(data,dtype=float)\n",
        "print(\"The array is\",arr4)\n",
        "print(\"The dimension of the array is\",arr4.ndim)\n",
        "print(\"The data type of the array is\",arr4.dtype)\n",
        "print(\"The shape of the array is\",arr4.shape)"
      ],
      "metadata": {
        "colab": {
          "base_uri": "https://localhost:8080/"
        },
        "id": "ST69WvFF-fJT",
        "outputId": "8ed4e68a-f1e9-46a2-ac95-3d3f20fa0871"
      },
      "execution_count": 21,
      "outputs": [
        {
          "output_type": "stream",
          "name": "stdout",
          "text": [
            "The array is [[1. 2. 3. 4.]\n",
            " [5. 6. 7. 8.]]\n",
            "The dimension of the array is 2\n",
            "The data type of the array is float64\n",
            "The shape of the array is (2, 4)\n"
          ]
        }
      ]
    },
    {
      "cell_type": "code",
      "source": [
        "arr5=np.arange(7)\n",
        "print(arr5)\n",
        "\n",
        "arr6=np.arange(4,20,2)\n",
        "print(arr6)"
      ],
      "metadata": {
        "colab": {
          "base_uri": "https://localhost:8080/"
        },
        "id": "xaD-cd72-fMW",
        "outputId": "286affbb-4988-44a7-abb3-d9e479090641"
      },
      "execution_count": 22,
      "outputs": [
        {
          "output_type": "stream",
          "name": "stdout",
          "text": [
            "[0 1 2 3 4 5 6]\n",
            "[ 4  6  8 10 12 14 16 18]\n"
          ]
        }
      ]
    },
    {
      "cell_type": "code",
      "source": [
        "a=np.arange(10).reshape(5,2)\n",
        "print(\"Numpy array is : \",a)\n",
        "print(\"Size of the array is :\",np.size(a))\n",
        "print(\"Shape of the array is :\",np.shape(a))\n",
        "print(\"Reshape of the array is :\",np.reshape(a,(2,5)))\n",
        "print(np.ravel(a))\n",
        "print(np.transpose(a))\n",
        "print(np.where(a>5))\n",
        "print(a[np.where(a>5)])"
      ],
      "metadata": {
        "colab": {
          "base_uri": "https://localhost:8080/"
        },
        "id": "jMlwen5p-XSL",
        "outputId": "b0b2b4b4-b1d4-4464-9b0a-1552b57197a1"
      },
      "execution_count": 23,
      "outputs": [
        {
          "output_type": "stream",
          "name": "stdout",
          "text": [
            "Numpy array is :  [[0 1]\n",
            " [2 3]\n",
            " [4 5]\n",
            " [6 7]\n",
            " [8 9]]\n",
            "Size of the array is : 10\n",
            "Shape of the array is : (5, 2)\n",
            "Reshape of the array is : [[0 1 2 3 4]\n",
            " [5 6 7 8 9]]\n",
            "[0 1 2 3 4 5 6 7 8 9]\n",
            "[[0 2 4 6 8]\n",
            " [1 3 5 7 9]]\n",
            "(array([3, 3, 4, 4]), array([0, 1, 0, 1]))\n",
            "[6 7 8 9]\n"
          ]
        }
      ]
    },
    {
      "cell_type": "code",
      "source": [
        "import numpy as np\n",
        "arr9=np.linspace(1,30,5)\n",
        "arr9"
      ],
      "metadata": {
        "colab": {
          "base_uri": "https://localhost:8080/"
        },
        "id": "PFOgpkGL-qeg",
        "outputId": "bf30f5fd-75d5-4d47-c3ad-7eee0b9e79ac"
      },
      "execution_count": 24,
      "outputs": [
        {
          "output_type": "execute_result",
          "data": {
            "text/plain": [
              "array([ 1.  ,  8.25, 15.5 , 22.75, 30.  ])"
            ]
          },
          "metadata": {},
          "execution_count": 24
        }
      ]
    },
    {
      "cell_type": "code",
      "source": [
        "arr10=np.arange(10,81,2).reshape(6,6)\n",
        "arr10"
      ],
      "metadata": {
        "colab": {
          "base_uri": "https://localhost:8080/"
        },
        "id": "W2-0NuVV-qiL",
        "outputId": "c6772d91-824a-409e-cd98-66601ba3cff4"
      },
      "execution_count": 25,
      "outputs": [
        {
          "output_type": "execute_result",
          "data": {
            "text/plain": [
              "array([[10, 12, 14, 16, 18, 20],\n",
              "       [22, 24, 26, 28, 30, 32],\n",
              "       [34, 36, 38, 40, 42, 44],\n",
              "       [46, 48, 50, 52, 54, 56],\n",
              "       [58, 60, 62, 64, 66, 68],\n",
              "       [70, 72, 74, 76, 78, 80]])"
            ]
          },
          "metadata": {},
          "execution_count": 25
        }
      ]
    },
    {
      "cell_type": "code",
      "source": [
        "arr10[:,[0,2]]"
      ],
      "metadata": {
        "colab": {
          "base_uri": "https://localhost:8080/"
        },
        "id": "y-Y_SylR-qnm",
        "outputId": "712a4bdd-ff6b-4df0-c72e-3151c82b8b19"
      },
      "execution_count": 27,
      "outputs": [
        {
          "output_type": "execute_result",
          "data": {
            "text/plain": [
              "array([[10, 14],\n",
              "       [22, 26],\n",
              "       [34, 38],\n",
              "       [46, 50],\n",
              "       [58, 62],\n",
              "       [70, 74]])"
            ]
          },
          "metadata": {},
          "execution_count": 27
        }
      ]
    },
    {
      "cell_type": "code",
      "source": [
        "arr10[:2,:]"
      ],
      "metadata": {
        "colab": {
          "base_uri": "https://localhost:8080/"
        },
        "id": "Nw9FF6_bAi-m",
        "outputId": "52cf9953-8db6-4808-a316-9ee46b6faa35"
      },
      "execution_count": 28,
      "outputs": [
        {
          "output_type": "execute_result",
          "data": {
            "text/plain": [
              "array([[10, 12, 14, 16, 18, 20],\n",
              "       [22, 24, 26, 28, 30, 32]])"
            ]
          },
          "metadata": {},
          "execution_count": 28
        }
      ]
    },
    {
      "cell_type": "code",
      "source": [
        "arr11=np.array([38,40,42,50])\n",
        "arr11"
      ],
      "metadata": {
        "colab": {
          "base_uri": "https://localhost:8080/"
        },
        "id": "vusFi5-BAjCM",
        "outputId": "cefcdc63-edb5-42f9-885c-92972cd942a7"
      },
      "execution_count": 29,
      "outputs": [
        {
          "output_type": "execute_result",
          "data": {
            "text/plain": [
              "array([38, 40, 42, 50])"
            ]
          },
          "metadata": {},
          "execution_count": 29
        }
      ]
    },
    {
      "cell_type": "code",
      "source": [
        "np.sum(arr11)"
      ],
      "metadata": {
        "colab": {
          "base_uri": "https://localhost:8080/"
        },
        "id": "lnTmJtVtAjFm",
        "outputId": "66807a3d-4b0e-484c-e9ee-4f89754b7f57"
      },
      "execution_count": 30,
      "outputs": [
        {
          "output_type": "execute_result",
          "data": {
            "text/plain": [
              "170"
            ]
          },
          "metadata": {},
          "execution_count": 30
        }
      ]
    },
    {
      "cell_type": "code",
      "source": [
        "np.mean(arr11)"
      ],
      "metadata": {
        "colab": {
          "base_uri": "https://localhost:8080/"
        },
        "id": "4I-IrIb-AjIM",
        "outputId": "1d44357f-af94-4ab6-c4fe-d289f64b7b1e"
      },
      "execution_count": 31,
      "outputs": [
        {
          "output_type": "execute_result",
          "data": {
            "text/plain": [
              "42.5"
            ]
          },
          "metadata": {},
          "execution_count": 31
        }
      ]
    },
    {
      "cell_type": "code",
      "source": [
        "np.median(arr11)"
      ],
      "metadata": {
        "colab": {
          "base_uri": "https://localhost:8080/"
        },
        "id": "cDHYVWpKAjKr",
        "outputId": "c4ba9cf9-2fe5-4089-93d5-deafef4a4704"
      },
      "execution_count": 32,
      "outputs": [
        {
          "output_type": "execute_result",
          "data": {
            "text/plain": [
              "41.0"
            ]
          },
          "metadata": {},
          "execution_count": 32
        }
      ]
    },
    {
      "cell_type": "code",
      "source": [
        "arr11=arr11.reshape(2,2)\n",
        "arr11"
      ],
      "metadata": {
        "colab": {
          "base_uri": "https://localhost:8080/"
        },
        "id": "VZSbJ48DAjNP",
        "outputId": "cfa0ab5e-5384-4379-b192-66cb05cdba3c"
      },
      "execution_count": 33,
      "outputs": [
        {
          "output_type": "execute_result",
          "data": {
            "text/plain": [
              "array([[38, 40],\n",
              "       [42, 50]])"
            ]
          },
          "metadata": {},
          "execution_count": 33
        }
      ]
    },
    {
      "cell_type": "code",
      "source": [
        "arr11.sum(axis=1)"
      ],
      "metadata": {
        "colab": {
          "base_uri": "https://localhost:8080/"
        },
        "id": "6SZewpbBAjPd",
        "outputId": "e95a12fb-b094-46c0-b80d-690f66ef8063"
      },
      "execution_count": 34,
      "outputs": [
        {
          "output_type": "execute_result",
          "data": {
            "text/plain": [
              "array([78, 92])"
            ]
          },
          "metadata": {},
          "execution_count": 34
        }
      ]
    },
    {
      "cell_type": "code",
      "source": [
        "arr11.sum(axis=0)"
      ],
      "metadata": {
        "colab": {
          "base_uri": "https://localhost:8080/"
        },
        "id": "fYxg6bY0AjSH",
        "outputId": "c899e9c3-fe2c-4469-c6d8-2b7a01b65d02"
      },
      "execution_count": 35,
      "outputs": [
        {
          "output_type": "execute_result",
          "data": {
            "text/plain": [
              "array([80, 90])"
            ]
          },
          "metadata": {},
          "execution_count": 35
        }
      ]
    },
    {
      "cell_type": "code",
      "source": [
        "arr10+5"
      ],
      "metadata": {
        "colab": {
          "base_uri": "https://localhost:8080/"
        },
        "id": "twL2LbFIAjUq",
        "outputId": "440398bc-a05b-455a-a08c-2f526368b7ff"
      },
      "execution_count": 36,
      "outputs": [
        {
          "output_type": "execute_result",
          "data": {
            "text/plain": [
              "array([[15, 17, 19, 21, 23, 25],\n",
              "       [27, 29, 31, 33, 35, 37],\n",
              "       [39, 41, 43, 45, 47, 49],\n",
              "       [51, 53, 55, 57, 59, 61],\n",
              "       [63, 65, 67, 69, 71, 73],\n",
              "       [75, 77, 79, 81, 83, 85]])"
            ]
          },
          "metadata": {},
          "execution_count": 36
        }
      ]
    },
    {
      "cell_type": "code",
      "source": [
        "arr10-5"
      ],
      "metadata": {
        "colab": {
          "base_uri": "https://localhost:8080/"
        },
        "id": "FDcev140AjXq",
        "outputId": "771ca75b-65b4-4e6c-c0b0-52cde285624a"
      },
      "execution_count": 37,
      "outputs": [
        {
          "output_type": "execute_result",
          "data": {
            "text/plain": [
              "array([[ 5,  7,  9, 11, 13, 15],\n",
              "       [17, 19, 21, 23, 25, 27],\n",
              "       [29, 31, 33, 35, 37, 39],\n",
              "       [41, 43, 45, 47, 49, 51],\n",
              "       [53, 55, 57, 59, 61, 63],\n",
              "       [65, 67, 69, 71, 73, 75]])"
            ]
          },
          "metadata": {},
          "execution_count": 37
        }
      ]
    },
    {
      "cell_type": "code",
      "source": [
        "arr10*3"
      ],
      "metadata": {
        "colab": {
          "base_uri": "https://localhost:8080/"
        },
        "id": "SaPLzxauA9mB",
        "outputId": "b5c18253-44ea-42dd-c36b-c3d13eb242ef"
      },
      "execution_count": 39,
      "outputs": [
        {
          "output_type": "execute_result",
          "data": {
            "text/plain": [
              "array([[ 30,  36,  42,  48,  54,  60],\n",
              "       [ 66,  72,  78,  84,  90,  96],\n",
              "       [102, 108, 114, 120, 126, 132],\n",
              "       [138, 144, 150, 156, 162, 168],\n",
              "       [174, 180, 186, 192, 198, 204],\n",
              "       [210, 216, 222, 228, 234, 240]])"
            ]
          },
          "metadata": {},
          "execution_count": 39
        }
      ]
    },
    {
      "cell_type": "code",
      "source": [
        "arr10/2"
      ],
      "metadata": {
        "colab": {
          "base_uri": "https://localhost:8080/"
        },
        "id": "mlZCMat-A9o9",
        "outputId": "ab8f6acc-3074-4b34-ce47-f8be6276f287"
      },
      "execution_count": 40,
      "outputs": [
        {
          "output_type": "execute_result",
          "data": {
            "text/plain": [
              "array([[ 5.,  6.,  7.,  8.,  9., 10.],\n",
              "       [11., 12., 13., 14., 15., 16.],\n",
              "       [17., 18., 19., 20., 21., 22.],\n",
              "       [23., 24., 25., 26., 27., 28.],\n",
              "       [29., 30., 31., 32., 33., 34.],\n",
              "       [35., 36., 37., 38., 39., 40.]])"
            ]
          },
          "metadata": {},
          "execution_count": 40
        }
      ]
    },
    {
      "cell_type": "code",
      "source": [
        "arr10[5]=-9\n",
        "arr10"
      ],
      "metadata": {
        "colab": {
          "base_uri": "https://localhost:8080/"
        },
        "id": "9YNsV7qIA9ro",
        "outputId": "876e7b9a-ff70-4514-dea0-e7e780a1f31e"
      },
      "execution_count": 41,
      "outputs": [
        {
          "output_type": "execute_result",
          "data": {
            "text/plain": [
              "array([[10, 12, 14, 16, 18, 20],\n",
              "       [22, 24, 26, 28, 30, 32],\n",
              "       [34, 36, 38, 40, 42, 44],\n",
              "       [46, 48, 50, 52, 54, 56],\n",
              "       [58, 60, 62, 64, 66, 68],\n",
              "       [-9, -9, -9, -9, -9, -9]])"
            ]
          },
          "metadata": {},
          "execution_count": 41
        }
      ]
    },
    {
      "cell_type": "code",
      "source": [
        "arr10=np.abs(arr10)\n",
        "arr10"
      ],
      "metadata": {
        "colab": {
          "base_uri": "https://localhost:8080/"
        },
        "id": "CU7dcOY5AjdM",
        "outputId": "6d1e9e18-41aa-4569-c6d1-0378035b3a43"
      },
      "execution_count": 42,
      "outputs": [
        {
          "output_type": "execute_result",
          "data": {
            "text/plain": [
              "array([[10, 12, 14, 16, 18, 20],\n",
              "       [22, 24, 26, 28, 30, 32],\n",
              "       [34, 36, 38, 40, 42, 44],\n",
              "       [46, 48, 50, 52, 54, 56],\n",
              "       [58, 60, 62, 64, 66, 68],\n",
              "       [ 9,  9,  9,  9,  9,  9]])"
            ]
          },
          "metadata": {},
          "execution_count": 42
        }
      ]
    },
    {
      "cell_type": "code",
      "source": [
        "np.sqrt(arr10)"
      ],
      "metadata": {
        "colab": {
          "base_uri": "https://localhost:8080/"
        },
        "id": "0SiTVQVpBKpJ",
        "outputId": "284b9f3e-b674-4c3a-fe96-6ccee35a73ab"
      },
      "execution_count": 43,
      "outputs": [
        {
          "output_type": "execute_result",
          "data": {
            "text/plain": [
              "array([[3.16227766, 3.46410162, 3.74165739, 4.        , 4.24264069,\n",
              "        4.47213595],\n",
              "       [4.69041576, 4.89897949, 5.09901951, 5.29150262, 5.47722558,\n",
              "        5.65685425],\n",
              "       [5.83095189, 6.        , 6.164414  , 6.32455532, 6.4807407 ,\n",
              "        6.63324958],\n",
              "       [6.78232998, 6.92820323, 7.07106781, 7.21110255, 7.34846923,\n",
              "        7.48331477],\n",
              "       [7.61577311, 7.74596669, 7.87400787, 8.        , 8.1240384 ,\n",
              "        8.24621125],\n",
              "       [3.        , 3.        , 3.        , 3.        , 3.        ,\n",
              "        3.        ]])"
            ]
          },
          "metadata": {},
          "execution_count": 43
        }
      ]
    },
    {
      "cell_type": "code",
      "source": [
        "arr10.T"
      ],
      "metadata": {
        "colab": {
          "base_uri": "https://localhost:8080/"
        },
        "id": "_kXMR4hVBKsE",
        "outputId": "dad73490-20fc-4cb9-ae64-5fc09a877507"
      },
      "execution_count": 44,
      "outputs": [
        {
          "output_type": "execute_result",
          "data": {
            "text/plain": [
              "array([[10, 22, 34, 46, 58,  9],\n",
              "       [12, 24, 36, 48, 60,  9],\n",
              "       [14, 26, 38, 50, 62,  9],\n",
              "       [16, 28, 40, 52, 64,  9],\n",
              "       [18, 30, 42, 54, 66,  9],\n",
              "       [20, 32, 44, 56, 68,  9]])"
            ]
          },
          "metadata": {},
          "execution_count": 44
        }
      ]
    },
    {
      "cell_type": "code",
      "source": [
        "np.random.rand(2,3)"
      ],
      "metadata": {
        "colab": {
          "base_uri": "https://localhost:8080/"
        },
        "id": "U1INWe4EBOmN",
        "outputId": "ca8c3f03-9e14-4bc4-83bd-12be2b3e4e9e"
      },
      "execution_count": 45,
      "outputs": [
        {
          "output_type": "execute_result",
          "data": {
            "text/plain": [
              "array([[0.89857579, 0.01945238, 0.99513934],\n",
              "       [0.69627625, 0.6546256 , 0.21450679]])"
            ]
          },
          "metadata": {},
          "execution_count": 45
        }
      ]
    }
  ]
}